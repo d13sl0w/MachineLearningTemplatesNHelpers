{
 "cells": [
  {
   "cell_type": "code",
   "execution_count": null,
   "metadata": {},
   "outputs": [],
   "source": [
    "import numpy as np\n"
   ]
  },
  {
   "cell_type": "code",
   "execution_count": 1,
   "metadata": {},
   "outputs": [],
   "source": [
    "def lichess_board_screengrabber():\n",
    "    '''\n",
    "    Records games for lichess or other apps, more importantly \n",
    "     (since most probably allow exports), creates ingestion of\n",
    "     ongoing game for other tools I write.\n",
    "    '''"
   ]
  },
  {
   "cell_type": "code",
   "execution_count": null,
   "metadata": {},
   "outputs": [],
   "source": [
    "class opening_tree(object):\n",
    "    '''\n",
    "    Takes all common openings, creates trie-esque sort of thing\n",
    "     that tells you what openings/defenses are available, and \n",
    "     what their win percentages are in real time. Maybe GUI too?\n",
    "    '''"
   ]
  }
 ],
 "metadata": {
  "kernelspec": {
   "display_name": "Python 3",
   "language": "python",
   "name": "python3"
  },
  "language_info": {
   "codemirror_mode": {
    "name": "ipython",
    "version": 3
   },
   "file_extension": ".py",
   "mimetype": "text/x-python",
   "name": "python",
   "nbconvert_exporter": "python",
   "pygments_lexer": "ipython3",
   "version": "3.5.2"
  }
 },
 "nbformat": 4,
 "nbformat_minor": 2
}
